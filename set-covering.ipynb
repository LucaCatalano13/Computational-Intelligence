{
 "cells": [
  {
   "cell_type": "markdown",
   "metadata": {},
   "source": [
    "LAB. 1 - A*\n",
    "===\n",
    "An implementation of the A* search algorithm designed and programmed by Luca Catalano (s308658). I designed the algorithm thinking of a heuristic function that takes into account the number of sets necessary to complete the set covering problem calculated as the ratio between the number of spaces not yet uncovered and the maximum size of the possible sets considering only the spaces not yet uncovered by the problem.\n",
    "I also compared it with 2 heuristic functions proposed by the profesor (1 of it is the same of the one implemented by me in a previous revision)."
   ]
  },
  {
   "cell_type": "code",
   "execution_count": 2,
   "metadata": {},
   "outputs": [],
   "source": [
    "from random import random\n",
    "from functools import reduce\n",
    "from collections import namedtuple\n",
    "from queue import PriorityQueue, SimpleQueue, LifoQueue\n",
    "from math import ceil\n",
    "\n",
    "import numpy as np"
   ]
  },
  {
   "cell_type": "code",
   "execution_count": 3,
   "metadata": {},
   "outputs": [],
   "source": [
    "PROBLEM_SIZE = 27\n",
    "NUM_SETS = 100\n",
    "SETS = tuple(np.array([random() < .4 for _ in range(PROBLEM_SIZE)]) for _ in range(NUM_SETS))\n",
    "State = namedtuple('State', ['taken', 'not_taken'])"
   ]
  },
  {
   "cell_type": "code",
   "execution_count": 4,
   "metadata": {},
   "outputs": [],
   "source": [
    "def goal_check(state):\n",
    "    return np.all(reduce(np.logical_or, [SETS[i] for i in state.taken], np.array([False for _ in range(PROBLEM_SIZE)])))\n",
    "\n",
    "assert goal_check(State(set(range(NUM_SETS)), set())), \"Probelm not solvable\" # sometimes an error may occur"
   ]
  },
  {
   "cell_type": "code",
   "execution_count": 5,
   "metadata": {},
   "outputs": [],
   "source": [
    "def g_cost(state):\n",
    "    return len(state.taken)\n",
    "\n",
    "# Proposed by professor\n",
    "def covered(state):\n",
    "    return reduce(\n",
    "        np.logical_or,\n",
    "        [SETS[i] for i in state.taken],\n",
    "        np.array([False for _ in range(PROBLEM_SIZE)]),\n",
    "    )\n",
    "\n",
    "def h(state):\n",
    "    uncovered = PROBLEM_SIZE - sum(\n",
    "        reduce(\n",
    "            np.logical_or, \n",
    "            [SETS[i] for i in state.taken],\n",
    "            np.array([False for _ in range(PROBLEM_SIZE)]),\n",
    "        )\n",
    "    )\n",
    "    largest_set_size = max(sum(s) for s in SETS)\n",
    "    print(uncovered, largest_set_size, ceil(uncovered/largest_set_size))\n",
    "    return ceil(uncovered/largest_set_size)\n",
    "\n",
    "def h2(state):\n",
    "    already_covered = covered(state)\n",
    "    if np.all(already_covered):\n",
    "        return 0\n",
    "    largest_set_size = max(sum(np.logical_and(s, np.logical_not(already_covered))) for s in SETS)\n",
    "    missing_size = PROBLEM_SIZE - sum(already_covered)\n",
    "    optimistic_estimate = ceil(missing_size / largest_set_size)\n",
    "    return optimistic_estimate\n",
    "\n",
    "# What about considering only the size of the largest set whose spaces that \n",
    "# count are the ones that coincide with the ones not yet uncovered?\n",
    "def custom_logic(a, b):\n",
    "    if (a == True and b == False):\n",
    "        return False\n",
    "    else:\n",
    "        return True\n",
    "\n",
    "def custom_logic_vector(a, b):\n",
    "    if len(a) != len(b):\n",
    "        raise ValueError(\"Vectors a and b must be of the same length.\")\n",
    "\n",
    "    a_np = np.array(a)\n",
    "    b_np = np.array(b)\n",
    "\n",
    "    result_np = np.vectorize(custom_logic)(a_np, b_np)\n",
    "    return len(result_np.tolist())\n",
    "\n",
    "def h3(state):\n",
    "    covered = reduce(\n",
    "            np.logical_or, \n",
    "            [SETS[i] for i in state.taken],\n",
    "            np.array([False for _ in range(PROBLEM_SIZE)]),\n",
    "        )\n",
    "    largest_size_that_match = max(custom_logic_vector(covered, s) for s in SETS)\n",
    "    missing_size = PROBLEM_SIZE - sum(covered)\n",
    "    return ceil(missing_size/largest_size_that_match)\n"
   ]
  },
  {
   "cell_type": "code",
   "execution_count": 19,
   "metadata": {},
   "outputs": [
    {
     "name": "stdout",
     "output_type": "stream",
     "text": [
      "Solved using A* in 18 steps with 3 sets\n"
     ]
    }
   ],
   "source": [
    "# A* approach -> professor h's best\n",
    "def astar_search():\n",
    "    frontier = PriorityQueue()\n",
    "    start_state = State(set(), set(range(NUM_SETS)))\n",
    "    frontier.put((0 + h2(start_state), start_state))\n",
    "    \n",
    "    counter = 0\n",
    "    _, current_state = frontier.get()\n",
    "    while not goal_check(current_state):\n",
    "        for action in current_state.not_taken:\n",
    "            new_taken = set(current_state.taken ^ {action})\n",
    "            new_not_taken = set(current_state.not_taken ^ {action})\n",
    "            new_state = State(new_taken, new_not_taken)\n",
    "            frontier.put((g_cost(new_state) + h2(new_state), new_state))\n",
    "        counter += 1\n",
    "        _, current_state = frontier.get()\n",
    "    return counter, current_state\n",
    "counter, current_state = astar_search()\n",
    "print(f\"Solved using A* in {counter:,} steps with {len(current_state.taken)} sets\")"
   ]
  },
  {
   "cell_type": "code",
   "execution_count": 24,
   "metadata": {},
   "outputs": [
    {
     "name": "stdout",
     "output_type": "stream",
     "text": [
      "Solved using A* in 659 steps with 3 sets\n"
     ]
    }
   ],
   "source": [
    "# A* approach --> Luca's\n",
    "# more slow than professor's\n",
    "def astar_search_l():\n",
    "    frontier = PriorityQueue()\n",
    "    start_state = State(set(), set(range(NUM_SETS)))\n",
    "    frontier.put((0 + h3(start_state), start_state))\n",
    "    \n",
    "    counter = 0\n",
    "    _, current_state = frontier.get()\n",
    "    while not goal_check(current_state):\n",
    "        for action in current_state.not_taken:\n",
    "            new_taken = set(current_state.taken ^ {action})\n",
    "            new_not_taken = set(current_state.not_taken ^ {action})\n",
    "            new_state = State(new_taken, new_not_taken)\n",
    "            frontier.put((g_cost(new_state) + h3(new_state), new_state))\n",
    "        counter += 1\n",
    "        _, current_state = frontier.get()\n",
    "    return counter, current_state\n",
    "\n",
    "counter, current_state = astar_search_l()\n",
    "print(f\"Solved using A* in {counter:,} steps with {len(current_state.taken)} sets\")"
   ]
  },
  {
   "cell_type": "markdown",
   "metadata": {},
   "source": [
    "Additional\n",
    "===\n",
    "Here I have analyzed also other search algorithms in order to show their performances."
   ]
  },
  {
   "cell_type": "code",
   "execution_count": 25,
   "metadata": {},
   "outputs": [
    {
     "name": "stdout",
     "output_type": "stream",
     "text": [
      "Solved in 10422 steps\n",
      "Breadth first solution space: State(taken={0, 5, 31}, not_taken={1, 2, 3, 4, 6, 7, 8, 9, 10, 11, 12, 13, 14, 15, 16, 17, 18, 19, 20, 21, 22, 23, 24, 25, 26, 27, 28, 29, 30, 32, 33, 34, 35, 36, 37, 38, 39, 40, 41, 42, 43, 44, 45, 46, 47, 48, 49, 50, 51, 52, 53, 54, 55, 56, 57, 58, 59, 60, 61, 62, 63, 64, 65, 66, 67, 68, 69, 70, 71, 72, 73, 74, 75, 76, 77, 78, 79, 80, 81, 82, 83, 84, 85, 86, 87, 88, 89, 90, 91, 92, 93, 94, 95, 96, 97, 98, 99})\n",
      "Solved in 12 steps\n",
      "Breadth first solution space: State(taken={96, 97, 98, 99, 88, 89, 90, 91, 92, 93, 94, 95}, not_taken={0, 1, 2, 3, 4, 5, 6, 7, 8, 9, 10, 11, 12, 13, 14, 15, 16, 17, 18, 19, 20, 21, 22, 23, 24, 25, 26, 27, 28, 29, 30, 31, 32, 33, 34, 35, 36, 37, 38, 39, 40, 41, 42, 43, 44, 45, 46, 47, 48, 49, 50, 51, 52, 53, 54, 55, 56, 57, 58, 59, 60, 61, 62, 63, 64, 65, 66, 67, 68, 69, 70, 71, 72, 73, 74, 75, 76, 77, 78, 79, 80, 81, 82, 83, 84, 85, 86, 87})\n"
     ]
    }
   ],
   "source": [
    "def search(frontier):\n",
    "    current_state = frontier.get()\n",
    "    counter = 0\n",
    "    while not goal_check(current_state):\n",
    "        counter += 1\n",
    "        for action in current_state.not_taken:\n",
    "            new_state = State(\n",
    "                current_state.taken ^ {action},\n",
    "                current_state.not_taken ^ {action},\n",
    "            )\n",
    "            frontier.put(new_state)\n",
    "        current_state = frontier.get()\n",
    "    print(f\"Solved in {counter} steps\")\n",
    "    return current_state\n",
    "\n",
    "# Breadth first search\n",
    "fifo = SimpleQueue()\n",
    "fifo.put(State(set(), set(range(NUM_SETS))))\n",
    "breadth_solution_state = search(fifo)\n",
    "print(\"Breadth first solution space:\", breadth_solution_state)\n",
    "\n",
    "# Depth first search\n",
    "lifo = LifoQueue()\n",
    "lifo.put(State(set(), set(range(NUM_SETS))))\n",
    "depth_solution_state = search(lifo)\n",
    "print(\"Depth first solution space:\", depth_solution_state)"
   ]
  },
  {
   "cell_type": "code",
   "execution_count": 6,
   "metadata": {},
   "outputs": [
    {
     "name": "stdout",
     "output_type": "stream",
     "text": [
      "Solved in 3 steps and with 3 tiles\n"
     ]
    }
   ],
   "source": [
    "# Greedy best search --> no optimal solution is guaranteed\n",
    "\n",
    "# NB: this function is not optimistic \n",
    "#     ==> it is not feasible for the A* algorithm \n",
    "#     ==> the optimality of A* is not guaranteed\n",
    "\n",
    "def distance(state):\n",
    "    uncovered = PROBLEM_SIZE - sum(\n",
    "        reduce(\n",
    "            np.logical_or, \n",
    "            [SETS[i] for i in state.taken],\n",
    "            np.array([False for _ in range(PROBLEM_SIZE)]),\n",
    "        )\n",
    "    )\n",
    "    return uncovered\n",
    "\n",
    "def greedy_best_searh(frontier):\n",
    "    current_state = frontier.get()\n",
    "\n",
    "    steps = 0\n",
    "    while not goal_check(current_state):\n",
    "        steps += 1\n",
    "        for action in current_state.not_taken:\n",
    "            new_state = State(\n",
    "                current_state.taken ^ {action},\n",
    "                current_state.not_taken ^ {action},\n",
    "            )\n",
    "            frontier.put((distance(new_state), new_state))\n",
    "        _, current_state = frontier.get()\n",
    "    print(f\"Solved in {steps} steps and with {len(current_state.taken)} tiles\")\n",
    "    return current_state\n",
    "\n",
    "frontier = PriorityQueue()\n",
    "frontier.put(State(set(), set(range(NUM_SETS))))\n",
    "greedy_solution_search = greedy_best_searh(frontier)"
   ]
  }
 ],
 "metadata": {
  "kernelspec": {
   "display_name": "Python 3",
   "language": "python",
   "name": "python3"
  },
  "language_info": {
   "codemirror_mode": {
    "name": "ipython",
    "version": 3
   },
   "file_extension": ".py",
   "mimetype": "text/x-python",
   "name": "python",
   "nbconvert_exporter": "python",
   "pygments_lexer": "ipython3",
   "version": "3.9.6"
  }
 },
 "nbformat": 4,
 "nbformat_minor": 2
}
