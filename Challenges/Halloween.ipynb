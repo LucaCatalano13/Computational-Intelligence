{
 "cells": [
  {
   "cell_type": "markdown",
   "metadata": {},
   "source": [
    "# Halloween Challenge\n",
    "\n",
    "Find the best solution with the fewest calls to the fitness functions for:\n",
    "\n",
    "* `num_points = [100, 1_000, 5_000]`\n",
    "* `num_sets = num_points`\n",
    "* `density = [.3, .7]` "
   ]
  },
  {
   "cell_type": "code",
   "execution_count": 1,
   "metadata": {},
   "outputs": [],
   "source": [
    "from functools import reduce\n",
    "from collections import namedtuple\n",
    "from copy import copy\n",
    "from itertools import product\n",
    "from random import random, randint, shuffle, seed, choice\n",
    "import numpy as np\n",
    "from scipy import sparse"
   ]
  },
  {
   "cell_type": "code",
   "execution_count": 2,
   "metadata": {},
   "outputs": [],
   "source": [
    "def make_set_covering_problem(num_points, num_sets, density):\n",
    "    \"\"\"Returns a sparse array where rows are sets and columns are the covered items\"\"\"\n",
    "    seed(num_points*2654435761+num_sets+density)\n",
    "    sets = sparse.lil_array((num_sets, num_points), dtype=bool)\n",
    "    for s, p in product(range(num_sets), range(num_points)):\n",
    "        if random() < density:\n",
    "            sets[s, p] = True\n",
    "    for p in range(num_points):\n",
    "        sets[randint(0, num_sets-1), p] = True\n",
    "    return sets"
   ]
  },
  {
   "cell_type": "markdown",
   "metadata": {},
   "source": [
    "Hill Climbing\n",
    "==="
   ]
  },
  {
   "cell_type": "code",
   "execution_count": 3,
   "metadata": {},
   "outputs": [],
   "source": [
    "def fitness(state, prob_size, SETS):\n",
    "    cost = sum(state)\n",
    "    valid = np.sum(\n",
    "        reduce(\n",
    "            np.logical_or,\n",
    "            [SETS[i] for i, t in enumerate(state) if t],\n",
    "            np.array([False for _ in range(prob_size)]),\n",
    "        )\n",
    "    )\n",
    "    return valid, -cost"
   ]
  },
  {
   "cell_type": "code",
   "execution_count": 4,
   "metadata": {},
   "outputs": [],
   "source": [
    "def tweak(state, prob_size):\n",
    "    new_state = copy(state)\n",
    "    index = randint(0, prob_size - 1)\n",
    "    new_state[index] = not new_state[index]\n",
    "    return new_state"
   ]
  },
  {
   "cell_type": "code",
   "execution_count": 5,
   "metadata": {},
   "outputs": [],
   "source": [
    "def hill_climbing(current_state, prob_size, SETS):\n",
    "    count_fitness = 0\n",
    "    count_no_update = 0\n",
    "    for step in range(10_000):\n",
    "        new_state = tweak(current_state, prob_size)\n",
    "        count_fitness += 1\n",
    "        if fitness(new_state, prob_size, SETS) >= fitness(current_state, prob_size, SETS):\n",
    "            current_state = new_state\n",
    "            count_no_update = 0\n",
    "        else:\n",
    "            count_no_update += 1\n",
    "        if count_no_update > 10:\n",
    "            break\n",
    "    return count_fitness, step, fitness(current_state, prob_size, SETS)"
   ]
  },
  {
   "cell_type": "code",
   "execution_count": 6,
   "metadata": {},
   "outputs": [
    {
     "name": "stdout",
     "output_type": "stream",
     "text": [
      "Problem size:  100\n",
      "Density:  0.3\n",
      "At step 31 with 32 iterations of fitness function, the fitness of best solution is (100, -10)\n",
      "Density:  0.7\n",
      "At step 14 with 15 iterations of fitness function, the fitness of best solution is (100, -4)\n",
      "Problem size:  1000\n",
      "Density:  0.3\n",
      "At step 31 with 32 iterations of fitness function, the fitness of best solution is (1000, -19)\n",
      "Density:  0.7\n",
      "At step 18 with 19 iterations of fitness function, the fitness of best solution is (1000, -7)\n",
      "Problem size:  5000\n",
      "Density:  0.3\n",
      "At step 31 with 32 iterations of fitness function, the fitness of best solution is (5000, -20)\n",
      "Density:  0.7\n",
      "At step 20 with 21 iterations of fitness function, the fitness of best solution is (5000, -9)\n"
     ]
    }
   ],
   "source": [
    "PROBLEM_SIZE = [100, 1_000, 5_000]\n",
    "NUM_SETS = [100, 1_000, 5_000]\n",
    "DENSITY = [.3, .7]\n",
    "\n",
    "for prob_size in PROBLEM_SIZE:\n",
    "    print(\"Problem size: \", prob_size)\n",
    "    for density in DENSITY:\n",
    "        print(\"Density: \", density)\n",
    "        SETS = make_set_covering_problem(prob_size, prob_size, density).toarray()\n",
    "        State = namedtuple('State', ['taken', 'not_taken'])\n",
    "        current_state = [choice([False, False, False, False, False, False]) for _ in range(prob_size)]\n",
    "        tot = hill_climbing(current_state, prob_size, SETS)\n",
    "        print(f\"At step {tot[1]} with {tot[0]} iterations of fitness function, the fitness of best solution is {tot[2]}\")"
   ]
  },
  {
   "cell_type": "markdown",
   "metadata": {},
   "source": [
    "Steepest Hill Climbing\n",
    "==="
   ]
  },
  {
   "cell_type": "code",
   "execution_count": 7,
   "metadata": {},
   "outputs": [],
   "source": [
    "def steepest_hill_climbing(current_state, prob_size, SETS):\n",
    "    count_fitness = 0\n",
    "    count_no_update = 0\n",
    "    goodness = fitness(current_state, prob_size, SETS)\n",
    "    for step in range(10_000):\n",
    "        new_state = tweak(current_state, prob_size)\n",
    "        new_state_goodness = fitness(new_state, prob_size, SETS)\n",
    "        count_fitness += 1\n",
    "        for _ in range(20):\n",
    "            tmp = tweak(current_state, prob_size)\n",
    "            tmp_goodness = fitness(tmp, prob_size, SETS)\n",
    "            count_fitness += 1\n",
    "            if tmp_goodness > new_state_goodness:\n",
    "                new_state = tmp\n",
    "                new_state_goodness = tmp_goodness\n",
    "        if new_state_goodness > goodness:\n",
    "            current_state = new_state\n",
    "            goodness = new_state_goodness\n",
    "            count_no_update = 0\n",
    "        else:\n",
    "            count_no_update += 1\n",
    "        if count_no_update > 15:\n",
    "            break\n",
    "    return count_fitness, step, goodness"
   ]
  },
  {
   "cell_type": "code",
   "execution_count": 8,
   "metadata": {},
   "outputs": [
    {
     "name": "stdout",
     "output_type": "stream",
     "text": [
      "Problem size:  100\n",
      "Density:  0.3\n",
      "At step 22 with 483 iterations of fitness function, the best solution is (100, -7)\n",
      "Density:  0.7\n",
      "At step 18 with 399 iterations of fitness function, the best solution is (100, -3)\n",
      "Problem size:  1000\n",
      "Density:  0.3\n",
      "At step 27 with 588 iterations of fitness function, the best solution is (1000, -12)\n",
      "Density:  0.7\n",
      "At step 20 with 441 iterations of fitness function, the best solution is (1000, -5)\n",
      "Problem size:  5000\n",
      "Density:  0.3\n",
      "At step 32 with 693 iterations of fitness function, the best solution is (5000, -17)\n",
      "Density:  0.7\n",
      "At step 21 with 462 iterations of fitness function, the best solution is (5000, -6)\n"
     ]
    }
   ],
   "source": [
    "PROBLEM_SIZE = [100, 1_000, 5_000]\n",
    "NUM_SETS = [100, 1_000, 5_000]\n",
    "DENSITY = [.3, .7]\n",
    "\n",
    "for prob_size in PROBLEM_SIZE:\n",
    "    print(\"Problem size: \", prob_size)\n",
    "    for density in DENSITY:\n",
    "        print(\"Density: \", density)\n",
    "        SETS = make_set_covering_problem(prob_size, prob_size, density).toarray()\n",
    "        State = namedtuple('State', ['taken', 'not_taken'])\n",
    "        current_state = [choice([False, False, False, False, False, False]) for _ in range(prob_size)]\n",
    "        tot = steepest_hill_climbing(current_state, prob_size, SETS)\n",
    "        print(f\"At step {tot[1]} with {tot[0]} iterations of fitness function, the best solution is {tot[2]}\")"
   ]
  },
  {
   "cell_type": "markdown",
   "metadata": {},
   "source": [
    "Simulated Annealing\n",
    "==="
   ]
  },
  {
   "cell_type": "code",
   "execution_count": 9,
   "metadata": {},
   "outputs": [],
   "source": [
    "def simulated_annealing(current_state, prob_size, SETS):\n",
    "    goodness = fitness(current_state, prob_size, SETS)\n",
    "    t = 0.001\n",
    "    count_fitness = 0\n",
    "    count_no_update = 0\n",
    "    for step in range(10_000):\n",
    "        new_state = tweak(current_state, prob_size)\n",
    "        goodness_new_state = fitness(new_state, prob_size, SETS)\n",
    "        count_fitness += 1\n",
    "        if goodness_new_state >= goodness or random() > np.exp((goodness[1] - goodness_new_state[1]) / t):\n",
    "            current_state = new_state\n",
    "            goodness = goodness_new_state\n",
    "            count_no_update = 0\n",
    "        else:\n",
    "            count_no_update += 1\n",
    "        if count_no_update > 15:\n",
    "            break\n",
    "        t -= 0.000001\n",
    "    return step, count_fitness, fitness(current_state, prob_size, SETS)"
   ]
  },
  {
   "cell_type": "code",
   "execution_count": 10,
   "metadata": {},
   "outputs": [
    {
     "name": "stdout",
     "output_type": "stream",
     "text": [
      "Problem size:  100\n",
      "Density:  0.3\n",
      "At step 33 with 32 iterations of fitness function, the best solution is (100, -11)\n",
      "Density:  0.7\n",
      "At step 134 with 133 iterations of fitness function, the best solution is (100, -4)\n",
      "Problem size:  1000\n",
      "Density:  0.3\n"
     ]
    },
    {
     "name": "stderr",
     "output_type": "stream",
     "text": [
      "/var/folders/rb/rpwh82c933b_w9vzlcm_hzpc0000gn/T/ipykernel_22727/1916172009.py:10: RuntimeWarning: overflow encountered in exp\n",
      "  if goodness_new_state >= goodness or random() > np.exp((goodness[1] - goodness_new_state[1]) / t):\n"
     ]
    },
    {
     "name": "stdout",
     "output_type": "stream",
     "text": [
      "At step 38 with 37 iterations of fitness function, the best solution is (1000, -19)\n",
      "Density:  0.7\n",
      "At step 26 with 25 iterations of fitness function, the best solution is (1000, -7)\n",
      "Problem size:  5000\n",
      "Density:  0.3\n",
      "At step 39 with 38 iterations of fitness function, the best solution is (5000, -20)\n",
      "Density:  0.7\n",
      "At step 26 with 25 iterations of fitness function, the best solution is (5000, -9)\n"
     ]
    }
   ],
   "source": [
    "PROBLEM_SIZE = [100, 1_000, 5_000]\n",
    "NUM_SETS = [100, 1_000, 5_000]\n",
    "DENSITY = [.3, .7]\n",
    "\n",
    "for prob_size in PROBLEM_SIZE:\n",
    "    print(\"Problem size: \", prob_size)\n",
    "    for density in DENSITY:\n",
    "        print(\"Density: \", density)\n",
    "        SETS = make_set_covering_problem(prob_size, prob_size, density).toarray()\n",
    "        State = namedtuple('State', ['taken', 'not_taken'])\n",
    "        current_state = [choice([False, False, False, False, False, False]) for _ in range(prob_size)]\n",
    "        tot = simulated_annealing(current_state, prob_size, SETS)\n",
    "        print(f\"At step {tot[1]} with {tot[0]} iterations of fitness function, the best solution is {tot[2]}\")"
   ]
  }
 ],
 "metadata": {
  "kernelspec": {
   "display_name": "Python 3 (ipykernel)",
   "language": "python",
   "name": "python3"
  },
  "language_info": {
   "codemirror_mode": {
    "name": "ipython",
    "version": 3
   },
   "file_extension": ".py",
   "mimetype": "text/x-python",
   "name": "python",
   "nbconvert_exporter": "python",
   "pygments_lexer": "ipython3",
   "version": "3.9.6"
  }
 },
 "nbformat": 4,
 "nbformat_minor": 4
}
