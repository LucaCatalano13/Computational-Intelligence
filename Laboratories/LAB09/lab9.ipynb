{
 "cells": [
  {
   "cell_type": "markdown",
   "metadata": {},
   "source": [
    "Copyright **`(c)`** 2023 Giovanni Squillero `<giovanni.squillero@polito.it>`  \n",
    "[`https://github.com/squillero/computational-intelligence`](https://github.com/squillero/computational-intelligence)  \n",
    "Free for personal or classroom use; see [`LICENSE.md`](https://github.com/squillero/computational-intelligence/blob/master/LICENSE.md) for details.  "
   ]
  },
  {
   "cell_type": "markdown",
   "metadata": {},
   "source": [
    "# LAB9\n",
    "\n",
    "\n",
    "Wrote a local-search algorithm (eg. an EA) able to solve the *Problem* instances 1, 2, 5, and 10 on a 1000-loci genomes, using a minimum number of fitness calls. That's all.\n",
    "\n",
    "### Deadlines:\n",
    "\n",
    "* Submission: Sunday, November 26 ([CET](https://www.timeanddate.com/time/zones/cet))\n",
    "* Reviews: Sunday, December 3 ([CET](https://www.timeanddate.com/time/zones/cet))\n",
    "\n",
    "Notes:\n",
    "\n",
    "* Reviews will be assigned  on Monday, November 27\n",
    "* You need to commit in order to be selected as a reviewer (ie. better to commit an empty work than not to commit)"
   ]
  },
  {
   "cell_type": "code",
   "execution_count": 440,
   "metadata": {},
   "outputs": [],
   "source": [
    "import numpy as np\n",
    "import random\n",
    "from tqdm import tqdm\n",
    "from copy import deepcopy\n",
    "from sklearn.cluster import KMeans\n",
    "import itertools\n",
    "\n",
    "from utils.reproduce_functions import *\n",
    "from utils.mutation_functions import *\n",
    "from utils.parent_selection_functions import *\n",
    "from utils.other_fucntions import *\n",
    "from utils.island_functions import *\n",
    "\n",
    "import lab9_lib"
   ]
  },
  {
   "cell_type": "code",
   "execution_count": 441,
   "metadata": {},
   "outputs": [],
   "source": [
    "MU = 5 #10\n",
    "MU_INIT = MU #10\n",
    "LAMBDA = 30 #10\n",
    "MUTATION_PROB = 0.2\n",
    "\n",
    "SKIP_VISITED = False # Memoisation skip=True, Reuse=False\n",
    "\n",
    "NUMBER_GENERATIONS = 3_000\n",
    "K_POPULATIONS = 1 #5\n",
    "K_POPULATIONS_INIT = K_POPULATIONS #5\n",
    "CLUSTER_TIMES = NUMBER_GENERATIONS//K_POPULATIONS #10\n",
    "#15k\n",
    "\n",
    "LENGTH_SOLUTION = 1000"
   ]
  },
  {
   "cell_type": "code",
   "execution_count": 442,
   "metadata": {},
   "outputs": [],
   "source": [
    "mutate = one_bit_flip\n",
    "reproduce = uniform_crossover\n",
    "parent_selection = roulette\n",
    "island_swap_func = swap_individuals_between_islands"
   ]
  },
  {
   "cell_type": "code",
   "execution_count": 443,
   "metadata": {},
   "outputs": [
    {
     "name": "stderr",
     "output_type": "stream",
     "text": [
      "c:\\Users\\User\\AppData\\Local\\Programs\\Python\\Python310\\lib\\site-packages\\sklearn\\cluster\\_kmeans.py:1412: FutureWarning: The default value of `n_init` will change from 10 to 'auto' in 1.4. Set the value of `n_init` explicitly to suppress the warning\n",
      "  super()._check_params_vs_input(X, default_n_init=10)\n",
      "  0%|          | 2/3000 [00:00<02:50, 17.55it/s]"
     ]
    },
    {
     "name": "stderr",
     "output_type": "stream",
     "text": [
      "100%|██████████| 3000/3000 [00:54<00:00, 54.84it/s]"
     ]
    },
    {
     "name": "stdout",
     "output_type": "stream",
     "text": [
      "Best score:  1.0\n",
      "Num fitness calls:  9072\n",
      "Evaluated agents: 9072\n",
      "Total agents: 90010\n"
     ]
    },
    {
     "name": "stderr",
     "output_type": "stream",
     "text": [
      "\n"
     ]
    }
   ],
   "source": [
    "fitness = lab9_lib.make_problem(5)\n",
    "parents = [generate_random_individual() for _ in range(2*K_POPULATIONS*MU)]\n",
    "parents_eval = [fitness(x) for x in parents]\n",
    "\n",
    "tot_created = len(parents)\n",
    "pop_history = {}\n",
    "for i in range(len(parents)):\n",
    "    pop_history[parents[i].tobytes()] = parents_eval[i]\n",
    "\n",
    "### Segregate the populations\n",
    "kmeans = KMeans(n_clusters=K_POPULATIONS)\n",
    "parent_labels = kmeans.fit(parents).labels_\n",
    "\n",
    "# Put every individual in its population\n",
    "populations = [[] for _ in range(K_POPULATIONS)]\n",
    "population_evals = [[] for _ in range(K_POPULATIONS)]\n",
    "\n",
    "for i in range(len(parents)):\n",
    "    populations[ parent_labels[i] ].append( parents[i] )\n",
    "    population_evals[ parent_labels[i] ].append( parents_eval[i] )\n",
    "\n",
    "\n",
    "# Every population has its own fitnesses\n",
    "\n",
    "hist_mean = []\n",
    "hist_std = []\n",
    "div = []\n",
    "gen_cluster_merge = []\n",
    "\n",
    "tot_evaluated = len(parents)\n",
    "\n",
    "\n",
    "for generation in tqdm(range(NUMBER_GENERATIONS)):\n",
    "    # offsprings = []\n",
    "    # offsprings_evals = []\n",
    "\n",
    "    # if (max(parents_evals)-min(parents_evals)) > 1e-5:\n",
    "    #     probabilities = [(score-min(parents_evals)) / (max(parents_evals)-min(parents_evals)) for score in parents_evals]\n",
    "    # else:\n",
    "    #     probabilities = [1 for score in parents_evals]\n",
    "    # probabilities = np.array(probabilities)/sum(probabilities)\n",
    "    \n",
    "\n",
    "    \n",
    "    offsprings = [[] for i in range(K_POPULATIONS)]\n",
    "    offsprings_evals = [[] for i in range(K_POPULATIONS)]\n",
    "    for i_population in range(K_POPULATIONS):\n",
    "        while len(offsprings[i_population]) < LAMBDA//K_POPULATIONS:\n",
    "            parents = populations[i_population]\n",
    "            probabilities = population_evals[i_population]\n",
    "\n",
    "            p1 = random.choices(parents, k=1, weights=probabilities)[0] # TO CHECK WEIGHTS\n",
    "            p2 = random.choices(parents, k=1, weights=probabilities)[0]\n",
    "            \n",
    "            div_parents = np.sum( np.abs( p1-p2 ) )\n",
    "            div_threshold = 20\n",
    "            indexes_to_change = [i for i in range(len(p1)) if p1[i] == p2[i]]\n",
    "\n",
    "            new_ind = mutate(reproduce1(p1,p2), \n",
    "                            # The more diverse the parents are, the more I mutate them >>> Exploration\n",
    "                            size=random.choice([1,1]),#+int( min(div_parents,30) / 10 ), \\\n",
    "                            # The more similar the more the probability to mutate\n",
    "                            mutation_probability=(MUTATION_PROB),#+(1-MUTATION_PROB)*(1-(min(div_threshold,div_parents)/div_threshold)),\n",
    "                            indexes_to_change=indexes_to_change)\n",
    "            tot_created += 1\n",
    "\n",
    "            new_ind_eval = pop_history.get(new_ind.tobytes())\n",
    "            if new_ind_eval == None:\n",
    "                new_ind_eval = fitness(new_ind)\n",
    "                pop_history[new_ind.tobytes()] = new_ind_eval\n",
    "            elif new_ind_eval != None and SKIP_VISITED:\n",
    "                continue\n",
    "                \n",
    "            offsprings[i_population].append(new_ind)\n",
    "            offsprings_evals[i_population].append(new_ind_eval)\n",
    "\n",
    "            \n",
    "    all_people = [offsprings[i] for i in range(K_POPULATIONS)]\n",
    "    all_evals = [offsprings_evals[i] for i in range(K_POPULATIONS)]\n",
    "\n",
    "    # Select new parents\n",
    "    best_people = [np.argsort(all_evals[i])[::-1] for i in range(K_POPULATIONS)]\n",
    "\n",
    "    populations = [[] for i in range(K_POPULATIONS)]\n",
    "    population_evals = [[] for i in range(K_POPULATIONS)]\n",
    "    for k in range(K_POPULATIONS):\n",
    "        for i in range(min( int(MU_INIT*(K_POPULATIONS_INIT/K_POPULATIONS)), len(all_people[k]))):\n",
    "            populations[k].append( all_people[k] [ best_people[k][i] ] )\n",
    "            population_evals[k].append( all_evals[k] [ best_people[k][i] ] )\n",
    "\n",
    "    # if (generation+1) % CLUSTER_TIMES == 0 and K_POPULATIONS > 1:\n",
    "    #     clusters = []\n",
    "    #     for k in range(K_POPULATIONS):\n",
    "    #         c = np.array(populations[k]).mean(axis=0)\n",
    "    #         clusters.append(c)\n",
    "    #     fitnesses = []\n",
    "    #     for k in range(K_POPULATIONS):\n",
    "    #         f = np.mean(population_evals[k])\n",
    "    #         fitnesses.append(f)\n",
    "        \n",
    "\n",
    "    #     min_dist = float('inf')\n",
    "    #     min_cluster_distance = (-1,-1)\n",
    "    #     for i in range(len(clusters)):\n",
    "    #         for j in range(i, len(clusters)):\n",
    "    #             dist = np.sum(np.abs(clusters[i]-clusters[j]))\n",
    "    #             if dist < min_dist:\n",
    "    #                 min_dist = dist\n",
    "    #                 min_cluster_distance = (i,j)\n",
    "        \n",
    "    #     i, j = min_cluster_distance\n",
    "    #     populations[i] = populations[i].extend(populations[j])\n",
    "    #     populations.pop(j)\n",
    "    #     population_evals[i] =  population_evals[i].extend(population_evals[j])\n",
    "    #     population_evals.pop(j)\n",
    "    #     K_POPULATIONS = max(1, K_POPULATIONS-1)\n",
    "    #     gen_cluster_merge.append(generation)\n",
    "\n",
    "\n",
    "    if ((generation+1) % CLUSTER_TIMES) == 0 and K_POPULATIONS > 1:\n",
    "        parents = []\n",
    "        evals = []\n",
    "        for k in range(K_POPULATIONS):\n",
    "            parents = parents + populations[k]\n",
    "            evals = evals + population_evals[k]\n",
    "\n",
    "        K_POPULATIONS = max(1, K_POPULATIONS-1)\n",
    "        gen_cluster_merge.append(generation)\n",
    "        \n",
    "        ### Segregate the populations\n",
    "        kmeans = KMeans(n_clusters=K_POPULATIONS, n_init='auto')\n",
    "        parent_labels = kmeans.fit(parents).labels_\n",
    "\n",
    "        # Put every individual in its population\n",
    "        populations = [[] for _ in range(K_POPULATIONS)]\n",
    "        population_evals = [[] for _ in range(K_POPULATIONS)]\n",
    "        for i in range(len(parents)):\n",
    "            populations[ parent_labels[i] ].append( parents[i] )\n",
    "            population_evals[ parent_labels[i] ].append( evals[i] )\n",
    "\n",
    "    ### INFOS\n",
    "    hist_mean.append(np.max(\n",
    "            list(itertools.chain.from_iterable(all_evals))\n",
    "        ))\n",
    "    hist_std.append(np.std(\n",
    "        list(itertools.chain.from_iterable(all_evals))  \n",
    "    ))\n",
    "    # div.append(get_diversity(parents))\n",
    "\n",
    "i_best = np.argmax( list(itertools.chain.from_iterable(population_evals)) )\n",
    "#print(parents[i_best])\n",
    "\n",
    "print(\"Best score: \", list(itertools.chain.from_iterable(population_evals))[i_best])\n",
    "print(\"Num fitness calls: \", fitness.calls)\n",
    "print(\"Evaluated agents:\", len(pop_history.items()))\n",
    "print(\"Total agents:\", tot_created)"
   ]
  },
  {
   "cell_type": "code",
   "execution_count": 444,
   "metadata": {},
   "outputs": [
    {
     "data": {
      "image/png": "[encoded data removed]",
      "text/plain": [
       "<Figure size 640x480 with 1 Axes>"
      ]
     },
     "metadata": {},
     "output_type": "display_data"
    }
   ],
   "source": [
    "import matplotlib.pyplot as plt\n",
    "\n",
    "hist_mean = np.array(hist_mean)\n",
    "hist_std = np.array(hist_std)\n",
    "\n",
    "plt.plot(hist_mean, c='blue')\n",
    "plt.scatter(gen_cluster_merge, [hist_mean[i] for i in gen_cluster_merge], color=\"orange\")\n",
    "# plt.plot(hist_mean+hist_std, c='red', alpha=0.5)\n",
    "# plt.plot(hist_mean-hist_std, c='red', alpha=0.5)\n",
    "plt.show()"
   ]
  },
  {
   "cell_type": "code",
   "execution_count": 445,
   "metadata": {},
   "outputs": [
    {
     "data": {
      "image/png": "[encoded data removed]",
      "text/plain": [
       "<Figure size 640x480 with 1 Axes>"
      ]
     },
     "metadata": {},
     "output_type": "display_data"
    }
   ],
   "source": [
    "\n",
    "plt.plot(div[30:])\n",
    "plt.show()"
   ]
  },
  {
   "cell_type": "code",
   "execution_count": 446,
   "metadata": {},
   "outputs": [
    {
     "data": {
      "text/plain": [
       "4"
      ]
     },
     "execution_count": 446,
     "metadata": {},
     "output_type": "execute_result"
    }
   ],
   "source": [
    "a = [[3],[12,23],[3]]\n",
    "\n",
    "sum([len(x) for x in a])"
   ]
  }
 ],
 "metadata": {
  "kernelspec": {
   "display_name": "ci-fLJ3OwGs-py3.12",
   "language": "python",
   "name": "python3"
  },
  "language_info": {
   "codemirror_mode": {
    "name": "ipython",
    "version": 3
   },
   "file_extension": ".py",
   "mimetype": "text/x-python",
   "name": "python",
   "nbconvert_exporter": "python",
   "pygments_lexer": "ipython3",
   "version": "3.10.4"
  }
 },
 "nbformat": 4,
 "nbformat_minor": 2
}
