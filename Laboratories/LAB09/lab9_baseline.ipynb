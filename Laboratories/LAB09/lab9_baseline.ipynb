{
 "cells": [
  {
   "cell_type": "code",
   "execution_count": 31,
   "metadata": {},
   "outputs": [],
   "source": [
    "import numpy as np\n",
    "import random\n",
    "from tqdm import tqdm\n",
    "from copy import deepcopy\n",
    "\n",
    "from utils.reproduce_functions import *\n",
    "from utils.mutation_functions import *\n",
    "from utils.parent_selection_functions import *\n",
    "from utils.other_fucntions import *\n",
    "\n",
    "import lab9_lib"
   ]
  },
  {
   "cell_type": "code",
   "execution_count": 32,
   "metadata": {},
   "outputs": [],
   "source": [
    "PROBLEM_SIZE = 10\n",
    "\n",
    "MU = 10\n",
    "LAMBDA = 20\n",
    "strategy = 'plus' # comma or plus\n",
    "\n",
    "MUTATION_PROB = 0.2\n",
    "DYNAMIC_MUTATION_PROB = True\n",
    "DIVERSITY_THRESHOLD = 20\n",
    "\n",
    "LENGTH_SOLUTION = 1000\n",
    "NUMBER_GENERATIONS = 2_500"
   ]
  },
  {
   "cell_type": "code",
   "execution_count": 33,
   "metadata": {},
   "outputs": [],
   "source": [
    "mutate = one_bit_flip\n",
    "reproduce = uniform_crossover\n",
    "parent_selection = roulette"
   ]
  },
  {
   "cell_type": "code",
   "execution_count": 34,
   "metadata": {},
   "outputs": [],
   "source": [
    "def ga(fitness, parents, parents_evals, memoization=False):\n",
    "    generation_convergence = -1\n",
    "\n",
    "    if memoization:\n",
    "        pop_history = {}\n",
    "        for i in range(len(parents)):\n",
    "            pop_history[parents[i].tobytes()] = parents_evals[i]\n",
    "\n",
    "    for generation in tqdm(range(NUMBER_GENERATIONS)):\n",
    "        offsprings = []\n",
    "        offsprings_evals = []\n",
    "        while len(offsprings) < LAMBDA:\n",
    "            # Parent Selection\n",
    "            p1, p2 = parent_selection(parents, parents_evals)\n",
    "\n",
    "            # Reproduce Parents\n",
    "            off_spring = reproduce(p1, p2)\n",
    "\n",
    "            # Mutate Offspring\n",
    "            if DYNAMIC_MUTATION_PROB:\n",
    "                p_div = get_parents_diversity(p1, p2)\n",
    "                new_ind1 = mutate(off_spring, \\\n",
    "                                  mutation_probability=(1 - (min(p_div,LENGTH_SOLUTION/2)/(LENGTH_SOLUTION/2))) )\n",
    "            else:    \n",
    "                new_ind1 = mutate(off_spring, mutation_probability=MUTATION_PROB)\n",
    "\n",
    "            # Evaluate Offspring\n",
    "            if memoization:\n",
    "                new_ind1_eval = pop_history.get(new_ind1.tobytes())\n",
    "                if new_ind1_eval == None:\n",
    "                    new_ind1_eval = fitness(new_ind1)\n",
    "                    pop_history[new_ind1.tobytes()] = new_ind1_eval\n",
    "            else:\n",
    "                new_ind1_eval = fitness(new_ind1)\n",
    "\n",
    "            # Add it to new population\n",
    "            offsprings.append(new_ind1)\n",
    "            offsprings_evals.append(new_ind1_eval)\n",
    "\n",
    "        # Create new population (with parents if plus, without if comma)\n",
    "        all_people = (parents if strategy=='plus' else []) + offsprings\n",
    "        all_evals = (parents_evals if strategy=='plus' else []) + offsprings_evals\n",
    "        best_people = np.argsort(all_evals)[::-1]\n",
    "\n",
    "        parents = []\n",
    "        parents_evals = []\n",
    "        for i in range(MU):\n",
    "            parents.append(all_people[best_people[i]])\n",
    "            parents_evals.append(all_evals[best_people[i]])\n",
    "            \n",
    "        if np.max(parents_evals) - 1.0 >= 0 and generation_convergence == -1:\n",
    "            generation_convergence = generation, fitness.calls\n",
    "\n",
    "    return parents, parents_evals, generation_convergence"
   ]
  },
  {
   "cell_type": "markdown",
   "metadata": {},
   "source": [
    "Without memoization"
   ]
  },
  {
   "cell_type": "code",
   "execution_count": 35,
   "metadata": {},
   "outputs": [
    {
     "name": "stderr",
     "output_type": "stream",
     "text": [
      "100%|██████████| 2500/2500 [00:43<00:00, 57.40it/s]"
     ]
    },
    {
     "name": "stdout",
     "output_type": "stream",
     "text": [
      "Best score:  0.108\n",
      "Num fitness calls:  50005\n",
      "Generation, NumCalls @ fitness=1.0 :  -1\n"
     ]
    },
    {
     "name": "stderr",
     "output_type": "stream",
     "text": [
      "\n"
     ]
    }
   ],
   "source": [
    "fitness = lab9_lib.make_problem(PROBLEM_SIZE)\n",
    "parents = [generate_random_individual(length=LENGTH_SOLUTION) for _ in range(MU)]\n",
    "parents_evals = [fitness(x) for x in parents]\n",
    "parents, parents_evals, gc = ga(fitness, parents, parents_evals, memoization=False)\n",
    "i_best = np.argmax(parents_evals)\n",
    "# print(parents[i_best])\n",
    "print(\"Best score: \", parents_evals[i_best])\n",
    "print(\"Num fitness calls: \", fitness.calls)\n",
    "print(\"Generation, NumCalls @ fitness=1.0 : \", gc)"
   ]
  },
  {
   "cell_type": "markdown",
   "metadata": {},
   "source": [
    "With memoization"
   ]
  },
  {
   "cell_type": "code",
   "execution_count": 36,
   "metadata": {},
   "outputs": [
    {
     "name": "stderr",
     "output_type": "stream",
     "text": [
      "  0%|          | 0/2500 [00:00<?, ?it/s]"
     ]
    },
    {
     "name": "stderr",
     "output_type": "stream",
     "text": [
      "100%|██████████| 2500/2500 [00:38<00:00, 64.49it/s]"
     ]
    },
    {
     "name": "stdout",
     "output_type": "stream",
     "text": [
      "Best score:  0.156\n",
      "Num fitness calls:  12404\n",
      "Generation, NumCalls @ fitness=1.0 :  -1\n"
     ]
    },
    {
     "name": "stderr",
     "output_type": "stream",
     "text": [
      "\n"
     ]
    }
   ],
   "source": [
    "fitness = lab9_lib.make_problem(PROBLEM_SIZE)\n",
    "parents = [generate_random_individual(length=LENGTH_SOLUTION) for _ in range(50)]\n",
    "parents_evals = [fitness(x) for x in parents]\n",
    "parents, parents_evals, gc = ga(fitness, parents, parents_evals, memoization=True)\n",
    "i_best = np.argmax(parents_evals)\n",
    "# print(parents[i_best])\n",
    "print(\"Best score: \", parents_evals[i_best])\n",
    "print(\"Num fitness calls: \", fitness.calls)\n",
    "print(\"Generation, NumCalls @ fitness=1.0 : \", gc)"
   ]
  }
 ],
 "metadata": {
  "kernelspec": {
   "display_name": "Python 3",
   "language": "python",
   "name": "python3"
  },
  "language_info": {
   "codemirror_mode": {
    "name": "ipython",
    "version": 3
   },
   "file_extension": ".py",
   "mimetype": "text/x-python",
   "name": "python",
   "nbconvert_exporter": "python",
   "pygments_lexer": "ipython3",
   "version": "3.11.3"
  }
 },
 "nbformat": 4,
 "nbformat_minor": 2
}
