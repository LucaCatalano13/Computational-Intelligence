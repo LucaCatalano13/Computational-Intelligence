{
 "cells": [
  {
   "cell_type": "markdown",
   "metadata": {
    "pycharm": {
     "name": "#%% md\n"
    }
   },
   "source": [
    "Copyright **`(c)`** 2022 Giovanni Squillero `<squillero@polito.it>`  \n",
    "[`https://github.com/squillero/computational-intelligence`](https://github.com/squillero/computational-intelligence)  \n",
    "Free for personal or classroom use; see [`LICENSE.md`](https://github.com/squillero/computational-intelligence/blob/master/LICENSE.md) for details.  \n"
   ]
  },
  {
   "cell_type": "markdown",
   "metadata": {
    "pycharm": {
     "name": "#%%\n"
    }
   },
   "source": [
    "# Lab 2: ES\n",
    "\n",
    "## Task\n",
    "\n",
    "Write agents able to play [*Nim*](https://en.wikipedia.org/wiki/Nim), with an arbitrary number of rows and an upper bound $k$ on the number of objects that can be removed in a turn (a.k.a., *subtraction game*).\n",
    "\n",
    "The goal of the game is to **avoid** taking the last object.\n",
    "\n",
    "* Task2.1: An agent using fixed rules based on *nim-sum* (i.e., an *expert system*)\n",
    "* Task2.2: An agent using evolved rules using ES\n",
    "\n",
    "## Instructions\n",
    "\n",
    "* Create the directory `lab2` inside your personal course repository for the course \n",
    "* Put a `README.md` and your solution (all the files, code and auxiliary data if needed)\n",
    "\n",
    "## Notes\n",
    "\n",
    "* Working in group is not only allowed, but recommended (see: [Ubuntu](https://en.wikipedia.org/wiki/Ubuntu_philosophy) and [Cooperative Learning](https://files.eric.ed.gov/fulltext/EJ1096789.pdf)). Collaborations must be explicitly declared in the `README.md`.\n",
    "* [Yanking](https://www.emacswiki.org/emacs/KillingAndYanking) from the internet is allowed, but sources must be explicitly declared in the `README.md`.\n",
    "\n"
   ]
  },
  {
   "cell_type": "code",
   "execution_count": 2,
   "metadata": {},
   "outputs": [],
   "source": [
    "import logging\n",
    "from pprint import pprint, pformat\n",
    "from collections import namedtuple\n",
    "import random\n",
    "from copy import deepcopy\n",
    "\n",
    "import matplotlib.pyplot as plt\n",
    "import numpy as np\n",
    "from tqdm import tqdm\n",
    "from scipy.special import softmax"
   ]
  },
  {
   "cell_type": "markdown",
   "metadata": {},
   "source": [
    "## The *Nim* and *Nimply* classes"
   ]
  },
  {
   "cell_type": "code",
   "execution_count": 3,
   "metadata": {},
   "outputs": [],
   "source": [
    "Nimply = namedtuple(\"Nimply\", \"row, num_objects\")"
   ]
  },
  {
   "cell_type": "code",
   "execution_count": 4,
   "metadata": {},
   "outputs": [],
   "source": [
    "class Nim:\n",
    "    def __init__(self, num_rows: int, k: int = None, last_move: Nimply = None) -> None:\n",
    "        self._rows = [i * 2 + 1 for i in range(num_rows)]\n",
    "        self._k = k\n",
    "        self.last_move = last_move\n",
    "\n",
    "    def __bool__(self):\n",
    "        return bool(sum(self._rows) > 0)\n",
    "\n",
    "    def __str__(self):\n",
    "        return \"<\" + \" \".join(str(_) for _ in self._rows) + \">\"\n",
    "\n",
    "    @property\n",
    "    def rows(self) -> tuple:\n",
    "        return tuple(self._rows)\n",
    "\n",
    "    def nimming(self, ply: Nimply) -> None:\n",
    "        row, num_objects = ply\n",
    "        self.last_move = ply\n",
    "        assert self._rows[row] >= num_objects\n",
    "        assert self._k is None or num_objects <= self._k\n",
    "        self._rows[row] -= num_objects\n",
    "\n",
    "    def n_possible_moves(self) -> int:\n",
    "        return sum(self._rows)"
   ]
  },
  {
   "cell_type": "markdown",
   "metadata": {},
   "source": [
    "## Sample (and silly) startegies "
   ]
  },
  {
   "cell_type": "code",
   "execution_count": 5,
   "metadata": {},
   "outputs": [],
   "source": [
    "def pure_random(state: Nim) -> Nimply:\n",
    "    \"\"\"A completely random move\"\"\"\n",
    "    row = random.choice([r for r, c in enumerate(state.rows) if c > 0])\n",
    "    num_objects = random.randint(1, state.rows[row])\n",
    "    return Nimply(row, num_objects)"
   ]
  },
  {
   "cell_type": "code",
   "execution_count": 6,
   "metadata": {},
   "outputs": [],
   "source": [
    "def gabriele(state: Nim) -> Nimply:\n",
    "    \"\"\"Pick always the maximum possible number of the lowest row\"\"\"\n",
    "    possible_moves = [(r, o) for r, c in enumerate(state.rows) for o in range(1, c + 1)]\n",
    "    return Nimply(*max(possible_moves, key=lambda m: (-m[0], m[1])))\n"
   ]
  },
  {
   "cell_type": "code",
   "execution_count": 7,
   "metadata": {},
   "outputs": [],
   "source": [
    "import numpy as np\n",
    "\n",
    "\n",
    "def nim_sum(state: Nim) -> int:\n",
    "    tmp = np.array([tuple(int(x) for x in f\"{c:032b}\") for c in state.rows])\n",
    "    xor = tmp.sum(axis=0) % 2\n",
    "    return int(\"\".join(str(_) for _ in xor), base=2)\n",
    "\n",
    "\n",
    "def analize(raw: Nim) -> dict:\n",
    "    cooked = dict()\n",
    "    cooked[\"possible_moves\"] = dict()\n",
    "    for ply in (Nimply(r, o) for r, c in enumerate(raw.rows) for o in range(1, c + 1)):\n",
    "        tmp = deepcopy(raw)\n",
    "        tmp.nimming(ply)\n",
    "        cooked[\"possible_moves\"][ply] = nim_sum(tmp)\n",
    "    return cooked\n",
    "\n",
    "\n",
    "def optimal(state: Nim) -> Nimply:\n",
    "    analysis = analize(state)\n",
    "    logging.debug(f\"analysis:\\n{pformat(analysis)}\")\n",
    "    spicy_moves = [ply for ply, ns in analysis[\"possible_moves\"].items() if ns != 0]\n",
    "    if not spicy_moves:\n",
    "        spicy_moves = list(analysis[\"possible_moves\"].keys())\n",
    "    ply = random.choice(spicy_moves)\n",
    "    return ply\n"
   ]
  },
  {
   "cell_type": "code",
   "execution_count": 11,
   "metadata": {},
   "outputs": [],
   "source": [
    "def expert_system(state: Nim) -> Nimply:\n",
    "    \"\"\"\n",
    "    Details on https://en.wikipedia.org/wiki/Nim#Proof_of_the_winning_formula.\n",
    "    \"\"\"\n",
    "    analysis = analize(state)\n",
    "    rows_not_zero = len(state.rows) - state.rows.count(0)\n",
    "    # case of one single row with lenght >= 2\n",
    "    if state.rows.count(1) == (rows_not_zero - 1):\n",
    "        row, num_objects = [(row, num_objects) for row, num_objects in enumerate(state.rows) if num_objects > 1][0]\n",
    "        if (rows_not_zero % 2) == 1:\n",
    "            num_objects = num_objects if (num_objects - 1) <= len(state.rows) else len(state.rows)\n",
    "            return Nimply(row, num_objects - 1)\n",
    "        else:\n",
    "            num_objects = num_objects if num_objects <= len(state.rows) else len(state.rows)\n",
    "            return Nimply(row, num_objects)\n",
    "    # case with more row with length >= 2\n",
    "    spicy_moves = [ply for ply, ns in analysis[\"possible_moves\"].items() if ns == 0]\n",
    "    if not spicy_moves:\n",
    "        spicy_moves = [move for move in list(analysis[\"possible_moves\"].keys())]\n",
    "    ply = random.choice(spicy_moves)\n",
    "    return ply"
   ]
  },
  {
   "cell_type": "markdown",
   "metadata": {},
   "source": [
    "## Oversimplified match"
   ]
  },
  {
   "cell_type": "code",
   "execution_count": 22,
   "metadata": {},
   "outputs": [
    {
     "name": "stderr",
     "output_type": "stream",
     "text": [
      "INFO:root:init : <1 3 5 7 9 11>\n",
      "INFO:root:ply: player 0 plays Nimply(row=5, num_objects=2)\n",
      "INFO:root:status: <1 3 5 7 9 9>\n",
      "INFO:root:ply: player 1 plays Nimply(row=3, num_objects=3)\n",
      "INFO:root:status: <1 3 5 4 9 9>\n",
      "INFO:root:ply: player 0 plays Nimply(row=1, num_objects=3)\n",
      "INFO:root:status: <1 0 5 4 9 9>\n",
      "INFO:root:ply: player 1 plays Nimply(row=3, num_objects=1)\n",
      "INFO:root:status: <1 0 5 3 9 9>\n",
      "INFO:root:ply: player 0 plays Nimply(row=2, num_objects=3)\n",
      "INFO:root:status: <1 0 2 3 9 9>\n",
      "INFO:root:ply: player 1 plays Nimply(row=2, num_objects=2)\n",
      "INFO:root:status: <1 0 0 3 9 9>\n",
      "INFO:root:ply: player 0 plays Nimply(row=3, num_objects=2)\n",
      "INFO:root:status: <1 0 0 1 9 9>\n",
      "INFO:root:ply: player 1 plays Nimply(row=0, num_objects=1)\n",
      "INFO:root:status: <0 0 0 1 9 9>\n",
      "INFO:root:ply: player 0 plays Nimply(row=3, num_objects=1)\n",
      "INFO:root:status: <0 0 0 0 9 9>\n",
      "INFO:root:ply: player 1 plays Nimply(row=5, num_objects=4)\n",
      "INFO:root:status: <0 0 0 0 9 5>\n",
      "INFO:root:ply: player 0 plays Nimply(row=4, num_objects=4)\n",
      "INFO:root:status: <0 0 0 0 5 5>\n",
      "INFO:root:ply: player 1 plays Nimply(row=5, num_objects=1)\n",
      "INFO:root:status: <0 0 0 0 5 4>\n",
      "INFO:root:ply: player 0 plays Nimply(row=4, num_objects=1)\n",
      "INFO:root:status: <0 0 0 0 4 4>\n",
      "INFO:root:ply: player 1 plays Nimply(row=4, num_objects=4)\n",
      "INFO:root:status: <0 0 0 0 0 4>\n",
      "INFO:root:ply: player 0 plays Nimply(row=5, num_objects=3)\n",
      "INFO:root:status: <0 0 0 0 0 1>\n",
      "INFO:root:ply: player 1 plays Nimply(row=5, num_objects=1)\n",
      "INFO:root:status: <0 0 0 0 0 0>\n",
      "INFO:root:status: Player 0 won!\n"
     ]
    }
   ],
   "source": [
    "logging.getLogger().setLevel(logging.INFO)\n",
    "\n",
    "strategy = (expert_system, pure_random)\n",
    "\n",
    "nim = Nim(6)\n",
    "logging.info(f\"init : {nim}\")\n",
    "player = 0\n",
    "while nim:\n",
    "    ply = strategy[player](nim)\n",
    "    logging.info(f\"ply: player {player} plays {ply}\")\n",
    "    nim.nimming(ply)\n",
    "    logging.info(f\"status: {nim}\")\n",
    "    player = 1 - player\n",
    "logging.info(f\"status: Player {player} won!\")"
   ]
  },
  {
   "cell_type": "markdown",
   "metadata": {},
   "source": [
    "# Our Solution"
   ]
  },
  {
   "cell_type": "code",
   "execution_count": 8,
   "metadata": {},
   "outputs": [],
   "source": [
    "NUM_MATCHES = 1000\n",
    "NIM_SIZE = 5\n",
    "N_GAMES_SIMULATED_PER_MOVE = 100\n",
    "\n",
    "nim = Nim(NIM_SIZE)"
   ]
  },
  {
   "cell_type": "markdown",
   "metadata": {},
   "source": [
    "## Methods"
   ]
  },
  {
   "cell_type": "code",
   "execution_count": 9,
   "metadata": {},
   "outputs": [],
   "source": [
    "def generate_all_possible_moves(state: Nim) -> list:\n",
    "    return [Nimply(r, o) for r, c in enumerate(state.rows) for o in range(1, c + 1)]\n",
    "\n",
    "def max_num_objects(state: Nim) -> dict:\n",
    "    return {r: c for r, c in enumerate(state.rows)}\n",
    "\n",
    "def sample_random_move(state: Nim) -> Nimply:\n",
    "    possible_moves = generate_all_possible_moves(state)\n",
    "    move = random.choice(range(len(possible_moves)))\n",
    "    return possible_moves[move], move\n",
    "\n",
    "def sampler(state: Nim) -> Nimply:\n",
    "    return sample_random_move(state=state)[0]\n",
    "\n",
    "def generate_game(state: Nim) -> tuple:\n",
    "    strategy = (sampler, pure_random)\n",
    "    temp_state = deepcopy(state)\n",
    "    first_move = None \n",
    "    player = 0 \n",
    "    while temp_state:\n",
    "        ply = strategy[player](temp_state)\n",
    "        first_move = ply if first_move is None else first_move\n",
    "        temp_state.nimming(ply)\n",
    "        player = 1 - player\n",
    "    return (first_move, player)\n",
    "\n",
    "def generate_games(state: Nim, n: int = 1000) -> list:\n",
    "    return [generate_game(state=state) for _ in range(n)]\n",
    "\n",
    "def choose_best_move(state: Nim, n_games: int = 1000) -> Nimply:\n",
    "    games = generate_games(state=state, n=n_games)\n",
    "    winning_moves = np.array([game[0] for game in games if game[1] == 0])\n",
    "    total_moves = np.array([game[0] for game in games])\n",
    "    winning_moves, winning_count = np.unique(winning_moves, return_counts=True, axis=0)\n",
    "    total_moves, total_count = np.unique(total_moves, return_counts=True, axis=0)\n",
    "\n",
    "    best_move_val = -1 \n",
    "    best_move_index = -1\n",
    "\n",
    "    for i, move in enumerate(total_moves):\n",
    "        for j, move2 in enumerate(winning_moves):\n",
    "            if (move == move2).all():\n",
    "                winrate = winning_count[j]/total_count[i]\n",
    "                if winrate > best_move_val:\n",
    "                    best_move_val = winrate\n",
    "                    best_move_index = i\n",
    "                break \n",
    "    \n",
    "    best_move = total_moves[best_move_index]\n",
    "\n",
    "    return Nimply(best_move[0], best_move[1])\n",
    "\n",
    "def our_strategy(state: Nim) -> Nimply:\n",
    "    return choose_best_move(state=state, n_games=N_GAMES_SIMULATED_PER_MOVE)"
   ]
  },
  {
   "cell_type": "code",
   "execution_count": 10,
   "metadata": {},
   "outputs": [
    {
     "data": {
      "image/png": "[encoded data removed]",
      "text/plain": [
       "<Figure size 640x480 with 1 Axes>"
      ]
     },
     "metadata": {},
     "output_type": "display_data"
    }
   ],
   "source": [
    "def plot_hist_moves(state: Nim) -> Nimply:\n",
    "    list = []\n",
    "    for i in range(1000):\n",
    "        _, num = sample_random_move(state=state)\n",
    "        list.append(num)\n",
    "\n",
    "    plt.hist(list, bins=state.n_possible_moves(), range=(0,state.n_possible_moves())) \n",
    "    plt.show()\n",
    "\n",
    "plot_hist_moves(nim)\n",
    "# STD makes sense between 2 and 6"
   ]
  },
  {
   "cell_type": "markdown",
   "metadata": {},
   "source": [
    "## Comparison between our solution and the ones provided"
   ]
  },
  {
   "cell_type": "markdown",
   "metadata": {},
   "source": [
    "#### Oversimplified match"
   ]
  },
  {
   "cell_type": "code",
   "execution_count": 11,
   "metadata": {},
   "outputs": [
    {
     "name": "stderr",
     "output_type": "stream",
     "text": [
      "INFO:root:init : <1 3 5 7 9 11>\n",
      "INFO:root:ply: player 0 plays Nimply(row=2, num_objects=3)\n",
      "INFO:root:status: <1 3 2 7 9 11>\n",
      "INFO:root:ply: player 1 plays Nimply(row=0, num_objects=1)\n",
      "INFO:root:status: <0 3 2 7 9 11>\n",
      "INFO:root:ply: player 0 plays Nimply(row=1, num_objects=2)\n",
      "INFO:root:status: <0 1 2 7 9 11>\n",
      "INFO:root:ply: player 1 plays Nimply(row=1, num_objects=1)\n",
      "INFO:root:status: <0 0 2 7 9 11>\n",
      "INFO:root:ply: player 0 plays Nimply(row=3, num_objects=7)\n",
      "INFO:root:status: <0 0 2 0 9 11>\n",
      "INFO:root:ply: player 1 plays Nimply(row=2, num_objects=2)\n",
      "INFO:root:status: <0 0 0 0 9 11>\n",
      "INFO:root:ply: player 0 plays Nimply(row=4, num_objects=9)\n",
      "INFO:root:status: <0 0 0 0 0 11>\n",
      "INFO:root:ply: player 1 plays Nimply(row=5, num_objects=11)\n",
      "INFO:root:status: <0 0 0 0 0 0>\n",
      "INFO:root:status: Player 0 won!\n"
     ]
    }
   ],
   "source": [
    "logging.getLogger().setLevel(logging.INFO)\n",
    "\n",
    "strategy = (our_strategy, gabriele)\n",
    "\n",
    "nim = Nim(6)\n",
    "logging.info(f\"init : {nim}\")\n",
    "player = 0\n",
    "while nim:\n",
    "    ply = strategy[player](nim)\n",
    "    logging.info(f\"ply: player {player} plays {ply}\")\n",
    "    nim.nimming(ply)\n",
    "    logging.info(f\"status: {nim}\")\n",
    "    player = 1 - player\n",
    "logging.info(f\"status: Player {player} won!\")"
   ]
  },
  {
   "cell_type": "markdown",
   "metadata": {},
   "source": [
    "### Our Solution vs. Pure Random"
   ]
  },
  {
   "cell_type": "code",
   "execution_count": 16,
   "metadata": {},
   "outputs": [
    {
     "name": "stderr",
     "output_type": "stream",
     "text": [
      "100%|██████████| 1000/1000 [00:31<00:00, 31.72it/s]"
     ]
    },
    {
     "name": "stdout",
     "output_type": "stream",
     "text": [
      "Our Solution vs Opponent => 0.93\n"
     ]
    },
    {
     "name": "stderr",
     "output_type": "stream",
     "text": [
      "\n"
     ]
    }
   ],
   "source": [
    "def evaluate(strategy1, strategy2):\n",
    "    \"\"\"evaluate put a first strategy versus a second one for a certain number of times, the results is the ratio \n",
    "    between the won matches and the total number of played matches\"\"\"\n",
    "    players = (strategy1, strategy2)\n",
    "    won = 0\n",
    "\n",
    "    for _ in tqdm(range(NUM_MATCHES)):\n",
    "        nim = Nim(NIM_SIZE)\n",
    "        player = random.randint(0,1) # make a random start\n",
    "        while nim:\n",
    "            ply = players[player](nim)\n",
    "            nim.nimming(ply)\n",
    "            player = 1 - player\n",
    "        if player == 0:\n",
    "            won += 1\n",
    "    return round(won / NUM_MATCHES, 2)\n",
    "\n",
    "ev_optimalvsexpert = evaluate(our_strategy, pure_random)\n",
    "print(f\"Our Solution vs Opponent => {ev_optimalvsexpert}\")"
   ]
  },
  {
   "cell_type": "markdown",
   "metadata": {},
   "source": [
    "### Our Solution vs. Gabriele's Solution"
   ]
  },
  {
   "cell_type": "code",
   "execution_count": 13,
   "metadata": {},
   "outputs": [
    {
     "name": "stderr",
     "output_type": "stream",
     "text": [
      "100%|██████████| 1000/1000 [00:25<00:00, 39.59it/s]"
     ]
    },
    {
     "name": "stdout",
     "output_type": "stream",
     "text": [
      "Our Solution vs Opponent => 0.95\n"
     ]
    },
    {
     "name": "stderr",
     "output_type": "stream",
     "text": [
      "\n"
     ]
    }
   ],
   "source": [
    "def evaluate(strategy1, strategy2):\n",
    "    \"\"\"evaluate put a first strategy versus a second one for a certain number of times, the results is the ratio \n",
    "    between the won matches and the total number of played matches\"\"\"\n",
    "    players = (strategy1, strategy2)\n",
    "    won = 0\n",
    "\n",
    "    for _ in tqdm(range(NUM_MATCHES)):\n",
    "        nim = Nim(NIM_SIZE)\n",
    "        player = random.randint(0,1) # make a random start\n",
    "        while nim:\n",
    "            ply = players[player](nim)\n",
    "            nim.nimming(ply)\n",
    "            player = 1 - player\n",
    "        if player == 0:\n",
    "            won += 1\n",
    "    return round(won / NUM_MATCHES, 2)\n",
    "\n",
    "ev_optimalvsexpert = evaluate(our_strategy, gabriele)\n",
    "print(f\"Our Solution vs Opponent => {ev_optimalvsexpert}\")"
   ]
  },
  {
   "cell_type": "markdown",
   "metadata": {},
   "source": [
    "# New (possible) solution"
   ]
  },
  {
   "cell_type": "code",
   "execution_count": 45,
   "metadata": {},
   "outputs": [],
   "source": [
    "def moves_ratio(nim: Nim) -> float:\n",
    "    \"\"\"\n",
    "    Compute a value [0, 1] to estimate the phase of the match computing the ratio between possible moves and total moves.\n",
    "    \"\"\"\n",
    "    # total possible moves\n",
    "    possible_moves = sum([1 for _, c in enumerate(nim.rows) for _ in range(1, min(c + 1, len(nim.rows)))])\n",
    "    initial_nim = Nim(len(nim.rows))\n",
    "    # total moves in the start game\n",
    "    total_moves = sum([1 for _, c in enumerate(initial_nim.rows) for _ in range(1, min(c + 1, len(initial_nim.rows)))])\n",
    "\n",
    "    return possible_moves / total_moves"
   ]
  },
  {
   "cell_type": "code",
   "execution_count": 46,
   "metadata": {},
   "outputs": [],
   "source": [
    "def lowest_available(state: Nim) -> Nimply:\n",
    "    \"\"\"Pick the lowest available move in a sequential manner.\"\"\"\n",
    "    for row, count in enumerate(state.rows):\n",
    "        if count > 0:\n",
    "            return Nimply(row, 1)\n",
    "    # If all rows are empty, play a random move\n",
    "    possible_moves = [(r, o) for r, c in enumerate(state.rows) for o in range(1, c + 1)]\n",
    "    return Nimply(*random.choice(possible_moves))\n",
    "\n",
    "def mirror_move(state: Nim) -> Nimply:\n",
    "    \"\"\"Mirror the opponent's last move.\"\"\"\n",
    "    if state.last_move is not None:\n",
    "        row, count = state.last_move\n",
    "        max_count = state.rows[row]\n",
    "        mirrored_count = max_count - count + 1\n",
    "        return Nimply(row, mirrored_count)\n",
    "    else:\n",
    "        # If it's the first move, play randomly\n",
    "        possible_moves = [(r, o) for r, c in enumerate(state.rows) for o in range(1, c + 1)]\n",
    "        return Nimply(*random.choice(possible_moves))\n",
    "    \n",
    "def greedy_move(state: Nim) -> Nimply:\n",
    "    \"\"\"Pick the move that minimizes the number of sticks in the heap\"\"\"\n",
    "    possible_moves = [(r, o) for r, c in enumerate(state.rows) for o in range(1, c + 1)]\n",
    "    return Nimply(*min(possible_moves, key=lambda m: sum(state.rows) - m[1]))"
   ]
  },
  {
   "cell_type": "code",
   "execution_count": 85,
   "metadata": {},
   "outputs": [],
   "source": [
    "STRATEGIES = [lowest_available, greedy_move, optimal]\n",
    "mutation_rate: float = (0.01, 0.1)\n",
    "\n",
    "class Individual:\n",
    "    n_strategy: int\n",
    "    phase_thresholds: list[float]\n",
    "    strategy_probs: list[list[float]]\n",
    "\n",
    "    def __init__(self, n_strategy: int = None, strategy_probs = None, phase_thresholds = None) -> None:\n",
    "        if n_strategy is None:\n",
    "            n_strategy = len(STRATEGIES)\n",
    "        if phase_thresholds is None:\n",
    "            phase_thresholds = sorted([random.random(), random.random()])\n",
    "        else:\n",
    "            phase_thresholds = sorted([max(0, phase_thresholds[0]), min(1, phase_thresholds[1])])\n",
    "        if strategy_probs is None:\n",
    "            strategy_probs = np.random.rand(len(phase_thresholds) + 1, n_strategy)\n",
    "        # n possible strategies\n",
    "        self.n_strategy = n_strategy\n",
    "        # threshold for each phase: in explain in which phase I am I select a different array of probabilities for the strategies\n",
    "        self.phase_thresholds = phase_thresholds\n",
    "        # probability for each strategy in each phase\n",
    "        self.strategy_probs = strategy_probs\n",
    "        \n",
    "    def mutate(ind):\n",
    "        global mutation_rate\n",
    "        ind = deepcopy(ind)\n",
    "        phase_thresholds = np.random.normal(ind.phase_thresholds, mutation_rate[0]).tolist()\n",
    "        strategy_probs = np.random.normal(ind.strategy_probs, mutation_rate[1]).tolist()\n",
    "        return Individual(strategy_probs = strategy_probs, phase_thresholds = phase_thresholds, n_strategy = ind.n_strategy)\n",
    "\n",
    "    def __call__(self, state: Nim) -> Nimply:\n",
    "        # compute the phase ratio: it is a value between 0 and 1 that explain in which phase I am\n",
    "        phase_ratio = moves_ratio(state)\n",
    "        # phase index: 0 = start, 1 = mid, 2 = end\n",
    "        phase_index = (\n",
    "            0\n",
    "            if phase_ratio < self.phase_thresholds[0]\n",
    "            else (1 if self.phase_thresholds[0] <= phase_ratio <= self.phase_thresholds[1] else 2)\n",
    "        )\n",
    "        # select probs strategy based on phase\n",
    "        probs = self.strategy_probs[phase_index]\n",
    "        # select the most probable strategy based on probs\n",
    "        strategy = np.random.choice(STRATEGIES, p = softmax(probs))\n",
    "        return strategy(state)"
   ]
  },
  {
   "cell_type": "code",
   "execution_count": 86,
   "metadata": {},
   "outputs": [],
   "source": [
    "def match(nim: Nim, strategy) -> int:\n",
    "    player = 0\n",
    "    while nim:\n",
    "        ply = strategy[player](nim)\n",
    "        nim.nimming(ply)\n",
    "        player = 1 - player\n",
    "    return player"
   ]
  },
  {
   "cell_type": "code",
   "execution_count": 87,
   "metadata": {},
   "outputs": [],
   "source": [
    "OPPONENT = pure_random\n",
    "N_MATCHES = 100\n",
    "\n",
    "def evaluate_games(player_strategy, n: int = N_MATCHES, opponent=OPPONENT) -> float: \n",
    "    wins = 0\n",
    "    for _ in range(n):\n",
    "        random_size = random.randint(4, 10)\n",
    "        nim = Nim(random_size)\n",
    "        wins += 1 if match(nim, (player_strategy, opponent)) == 0 else 0\n",
    "    return wins / n"
   ]
  },
  {
   "cell_type": "code",
   "execution_count": 24,
   "metadata": {},
   "outputs": [],
   "source": [
    "LAMBDA = 20\n",
    "\n",
    "def evolutionary_algorithm():\n",
    "    parent = Individual()\n",
    "    parent_result = evaluate_games(parent)\n",
    "    mutation_rate: float = (0.01, 0.1)\n",
    "\n",
    "    pbar = tqdm(range(0, 10_000 // LAMBDA))\n",
    "    for i in pbar:\n",
    "        pbar.set_description(f\"Parent Win-rate: {parent_result:.2%}\")\n",
    "        # generate offspring\n",
    "        offspring = [parent.mutate() for _ in range(LAMBDA)]\n",
    "        # evaluate offspring\n",
    "        results = [evaluate_games(i) for i in offspring]\n",
    "        # compute mutation rate: if you won more than 1/5 of the matches, increase the mutation rate, otherwise decrease it\n",
    "        incr_rate = np.sum([res > parent_result for res in results]) / LAMBDA\n",
    "        if incr_rate > 1 / 5:\n",
    "            mutation_rate = (mutation_rate[0] * 1.1, mutation_rate[1] * 1.1)\n",
    "        elif incr_rate < 1 / 5:\n",
    "            mutation_rate = (mutation_rate[0] / 1.1, mutation_rate[1] / 1.1)\n",
    "        # select the best offspring\n",
    "        solution_ind = np.argmax(results)\n",
    "        if parent_result < results[solution_ind]:\n",
    "            parent = offspring[solution_ind]\n",
    "            parent_result = results[solution_ind]\n",
    "        # stop if the parent won more than 95% of the matches\n",
    "        if parent_result >= 0.95:\n",
    "            break\n",
    "    return mutation_rate, parent"
   ]
  },
  {
   "cell_type": "code",
   "execution_count": 25,
   "metadata": {},
   "outputs": [
    {
     "ename": "NameError",
     "evalue": "name 'evalutionary_algorithm' is not defined",
     "output_type": "error",
     "traceback": [
      "\u001b[0;31m---------------------------------------------------------------------------\u001b[0m",
      "\u001b[0;31mNameError\u001b[0m                                 Traceback (most recent call last)",
      "\u001b[1;32m/Users/luca/Library/Mobile Documents/com~apple~CloudDocs/PoliTO/Computational Intelligence/ci2023/Laboratories/LAB02/lab2-nim.ipynb Cella 33\u001b[0m line \u001b[0;36m1\n\u001b[0;32m----> <a href='vscode-notebook-cell:/Users/luca/Library/Mobile%20Documents/com~apple~CloudDocs/PoliTO/Computational%20Intelligence/ci2023/Laboratories/LAB02/lab2-nim.ipynb#X56sZmlsZQ%3D%3D?line=0'>1</a>\u001b[0m mutation_rate, parent \u001b[39m=\u001b[39m evalutionary_algorithm()\n",
      "\u001b[0;31mNameError\u001b[0m: name 'evalutionary_algorithm' is not defined"
     ]
    }
   ],
   "source": [
    "mutation_rate, parent = evolutionary_algorithm()"
   ]
  },
  {
   "cell_type": "code",
   "execution_count": 89,
   "metadata": {},
   "outputs": [
    {
     "data": {
      "text/plain": [
       "(2.4346850623387736e-23, 2.4346850623387733e-22)"
      ]
     },
     "execution_count": 89,
     "metadata": {},
     "output_type": "execute_result"
    }
   ],
   "source": [
    "mutation_rate"
   ]
  },
  {
   "cell_type": "markdown",
   "metadata": {},
   "source": []
  },
  {
   "cell_type": "code",
   "execution_count": 90,
   "metadata": {},
   "outputs": [
    {
     "data": {
      "text/plain": [
       "[0.23608452353469223, 0.8357322107956037]"
      ]
     },
     "execution_count": 90,
     "metadata": {},
     "output_type": "execute_result"
    }
   ],
   "source": [
    "parent.phase_thresholds"
   ]
  },
  {
   "cell_type": "code",
   "execution_count": 91,
   "metadata": {},
   "outputs": [
    {
     "data": {
      "text/plain": [
       "[[0.30982258268170204, 0.7092627673148878, 0.9588312231951887],\n",
       " [0.7747804567219914, 0.14707364858695096, 0.24057670529930322],\n",
       " [0.49971841001458556, 0.009056858779584336, 0.32038696871549616]]"
      ]
     },
     "execution_count": 91,
     "metadata": {},
     "output_type": "execute_result"
    }
   ],
   "source": [
    "parent.strategy_probs"
   ]
  },
  {
   "cell_type": "code",
   "execution_count": 98,
   "metadata": {},
   "outputs": [
    {
     "data": {
      "text/plain": [
       "0.38"
      ]
     },
     "execution_count": 98,
     "metadata": {},
     "output_type": "execute_result"
    }
   ],
   "source": [
    "evaluate_games(parent, 100, pure_random)"
   ]
  },
  {
   "cell_type": "code",
   "execution_count": 26,
   "metadata": {},
   "outputs": [
    {
     "ename": "NameError",
     "evalue": "name 'evaluate_games' is not defined",
     "output_type": "error",
     "traceback": [
      "\u001b[0;31m---------------------------------------------------------------------------\u001b[0m",
      "\u001b[0;31mNameError\u001b[0m                                 Traceback (most recent call last)",
      "\u001b[1;32m/Users/luca/Library/Mobile Documents/com~apple~CloudDocs/PoliTO/Computational Intelligence/ci2023/Laboratories/LAB02/lab2-nim.ipynb Cella 39\u001b[0m line \u001b[0;36m1\n\u001b[0;32m----> <a href='vscode-notebook-cell:/Users/luca/Library/Mobile%20Documents/com~apple~CloudDocs/PoliTO/Computational%20Intelligence/ci2023/Laboratories/LAB02/lab2-nim.ipynb#X51sZmlsZQ%3D%3D?line=0'>1</a>\u001b[0m evaluate_games(parent, \u001b[39m100\u001b[39m, gabriele)\n",
      "\u001b[0;31mNameError\u001b[0m: name 'evaluate_games' is not defined"
     ]
    }
   ],
   "source": [
    "evaluate_games(parent, 100, gabriele)"
   ]
  },
  {
   "cell_type": "code",
   "execution_count": 97,
   "metadata": {},
   "outputs": [
    {
     "data": {
      "text/plain": [
       "0.29"
      ]
     },
     "execution_count": 97,
     "metadata": {},
     "output_type": "execute_result"
    }
   ],
   "source": [
    "evaluate_games(parent, 100, optimal)"
   ]
  },
  {
   "cell_type": "code",
   "execution_count": null,
   "metadata": {},
   "outputs": [],
   "source": [
    "STRATEGIES = [lowest_available, greedy_move, expert_system]\n",
    "mutation_rate, parent = evolutionary_algorithm()"
   ]
  },
  {
   "cell_type": "code",
   "execution_count": null,
   "metadata": {},
   "outputs": [],
   "source": [
    "mutation_rate"
   ]
  },
  {
   "cell_type": "code",
   "execution_count": null,
   "metadata": {},
   "outputs": [
    {
     "data": {
      "text/plain": [
       "[0.23608452353469223, 0.8357322107956037]"
      ]
     },
     "metadata": {},
     "output_type": "display_data"
    }
   ],
   "source": [
    "parent.phase_thresholds"
   ]
  },
  {
   "cell_type": "code",
   "execution_count": null,
   "metadata": {},
   "outputs": [
    {
     "data": {
      "text/plain": [
       "[[0.30982258268170204, 0.7092627673148878, 0.9588312231951887],\n",
       " [0.7747804567219914, 0.14707364858695096, 0.24057670529930322],\n",
       " [0.49971841001458556, 0.009056858779584336, 0.32038696871549616]]"
      ]
     },
     "metadata": {},
     "output_type": "display_data"
    }
   ],
   "source": [
    "parent.strategy_probs"
   ]
  },
  {
   "cell_type": "code",
   "execution_count": null,
   "metadata": {},
   "outputs": [
    {
     "data": {
      "text/plain": [
       "0.38"
      ]
     },
     "metadata": {},
     "output_type": "display_data"
    }
   ],
   "source": [
    "evaluate_games(parent, 100, pure_random)"
   ]
  },
  {
   "cell_type": "code",
   "execution_count": null,
   "metadata": {},
   "outputs": [],
   "source": [
    "evaluate_games(parent, 100, gabriele)"
   ]
  },
  {
   "cell_type": "code",
   "execution_count": null,
   "metadata": {},
   "outputs": [],
   "source": [
    "evaluate_games(parent, 100, optimal)"
   ]
  }
 ],
 "metadata": {
  "kernelspec": {
   "display_name": "Python 3.10.7 ('ci22-dPIXJ0_o-py3.10')",
   "language": "python",
   "name": "python3"
  },
  "language_info": {
   "codemirror_mode": {
    "name": "ipython",
    "version": 3
   },
   "file_extension": ".py",
   "mimetype": "text/x-python",
   "name": "python",
   "nbconvert_exporter": "python",
   "pygments_lexer": "ipython3",
   "version": "3.9.6"
  },
  "vscode": {
   "interpreter": {
    "hash": "10197e8e2f2aa67e2c349105091c77f4cd384fce4877865f002d9ec653f96bc0"
   }
  }
 },
 "nbformat": 4,
 "nbformat_minor": 2
}
