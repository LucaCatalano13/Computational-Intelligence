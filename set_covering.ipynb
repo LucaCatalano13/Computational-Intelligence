{
 "cells": [
  {
   "cell_type": "code",
   "execution_count": 2,
   "metadata": {},
   "outputs": [],
   "source": [
    "from random import random\n",
    "from functools import reduce\n",
    "from collections import namedtuple\n",
    "from queue import PriorityQueue, SimpleQueue, LifoQueue\n",
    "from math import ceil\n",
    "\n",
    "import numpy as np"
   ]
  },
  {
   "cell_type": "code",
   "execution_count": 3,
   "metadata": {},
   "outputs": [],
   "source": [
    "PROBLEM_SIZE = 5\n",
    "NUM_SETS = 10\n",
    "SETS = tuple(np.array([random() < .4 for _ in range(PROBLEM_SIZE)]) for _ in range(NUM_SETS))\n",
    "State = namedtuple('State', ['taken', 'not_taken'])"
   ]
  },
  {
   "cell_type": "code",
   "execution_count": 4,
   "metadata": {},
   "outputs": [],
   "source": [
    "def goal_check(state):\n",
    "    return np.all(reduce(np.logical_or, [SETS[i] for i in state.taken], np.array([False for _ in range(PROBLEM_SIZE)])))"
   ]
  },
  {
   "cell_type": "code",
   "execution_count": 5,
   "metadata": {},
   "outputs": [],
   "source": [
    "assert goal_check(State(set(range(NUM_SETS)), set())), \"Probelm not solvable\" # sometimes an error may occur"
   ]
  },
  {
   "cell_type": "code",
   "execution_count": 6,
   "metadata": {},
   "outputs": [],
   "source": [
    "def search(frontier):\n",
    "    current_state = frontier.get()\n",
    "\n",
    "    # to count the number of sets put in the frontier\n",
    "    counter = 0\n",
    "    while not goal_check(current_state):\n",
    "        counter += 1\n",
    "        for action in current_state.not_taken:\n",
    "            new_state = State(\n",
    "                current_state.taken ^ {action},\n",
    "                current_state.not_taken ^ {action},\n",
    "            )\n",
    "            frontier.put(new_state)\n",
    "        current_state = frontier.get()\n",
    "\n",
    "    print(f\"Solved in {counter} steps\")\n",
    "    return current_state"
   ]
  },
  {
   "cell_type": "markdown",
   "metadata": {},
   "source": [
    "Breadth First Search and Depth First Search"
   ]
  },
  {
   "cell_type": "code",
   "execution_count": 7,
   "metadata": {},
   "outputs": [
    {
     "name": "stdout",
     "output_type": "stream",
     "text": [
      "Solved in 34 steps\n",
      "Solved in 3 steps\n"
     ]
    }
   ],
   "source": [
    "fifo = SimpleQueue()\n",
    "lifo = LifoQueue()\n",
    "\n",
    "fifo.put(State(set(), set(range(NUM_SETS))))\n",
    "lifo.put(State(set(), set(range(NUM_SETS))))\n",
    "\n",
    "breadth_solution_state = search(fifo)\n",
    "depth_solution_state = search(lifo)"
   ]
  },
  {
   "cell_type": "code",
   "execution_count": 8,
   "metadata": {},
   "outputs": [
    {
     "name": "stdout",
     "output_type": "stream",
     "text": [
      "Solution with a Breadth Search:\n",
      "State(taken={2, 6}, not_taken={0, 1, 3, 4, 5, 7, 8, 9})\n",
      "Solution with a Depth Search:\n",
      "State(taken={8, 9, 7}, not_taken={0, 1, 2, 3, 4, 5, 6})\n"
     ]
    }
   ],
   "source": [
    "print(\n",
    "    f\"Solution with a Breadth Search:\\n{breadth_solution_state}\\nSolution with a Depth Search:\\n{depth_solution_state}\"\n",
    ")"
   ]
  },
  {
   "cell_type": "markdown",
   "metadata": {},
   "source": [
    "Dijkstra Search"
   ]
  },
  {
   "cell_type": "code",
   "execution_count": 9,
   "metadata": {},
   "outputs": [],
   "source": [
    "def cost_function(taken):\n",
    "    return sum([np.sum(SETS[i]) for i in taken])"
   ]
  },
  {
   "cell_type": "code",
   "execution_count": 10,
   "metadata": {},
   "outputs": [],
   "source": [
    "def search_dijkstra(frontier):\n",
    "    current_state = frontier.get()\n",
    "\n",
    "    counter = 0\n",
    "    while not goal_check(current_state):\n",
    "        counter += 1\n",
    "        for action in current_state.not_taken:\n",
    "            new_state = State(\n",
    "                current_state.taken ^ {action},\n",
    "                current_state.not_taken ^ {action},\n",
    "            )\n",
    "            frontier.put((cost_function(new_state.taken), new_state))\n",
    "        current_state = frontier.get()[1]\n",
    "\n",
    "    print(f\"Solved in {counter} steps\")\n",
    "    return current_state"
   ]
  },
  {
   "cell_type": "code",
   "execution_count": 11,
   "metadata": {},
   "outputs": [
    {
     "name": "stdout",
     "output_type": "stream",
     "text": [
      "Solved in 169 steps\n"
     ]
    }
   ],
   "source": [
    "frontier = PriorityQueue()\n",
    "frontier.put(State(set(), set(range(NUM_SETS))))\n",
    "dijkstra_solution_state = search_dijkstra(frontier)"
   ]
  },
  {
   "cell_type": "code",
   "execution_count": 12,
   "metadata": {},
   "outputs": [
    {
     "data": {
      "text/plain": [
       "State(taken={8, 9, 1}, not_taken={0, 2, 3, 4, 5, 6, 7})"
      ]
     },
     "execution_count": 12,
     "metadata": {},
     "output_type": "execute_result"
    }
   ],
   "source": [
    "dijkstra_solution_state"
   ]
  },
  {
   "cell_type": "markdown",
   "metadata": {},
   "source": [
    "Gready Search"
   ]
  },
  {
   "cell_type": "code",
   "execution_count": 13,
   "metadata": {},
   "outputs": [],
   "source": [
    "def distance(state):\n",
    "    uncovered = PROBLEM_SIZE - sum(\n",
    "        reduce(\n",
    "            np.logical_or, \n",
    "            [SETS[i] for i in state.taken],\n",
    "            np.array([False for _ in range(PROBLEM_SIZE)]),\n",
    "        )\n",
    "    )\n",
    "    return uncovered\n",
    "\n",
    "def greedy_best_searh(frontier):\n",
    "    current_state = frontier.get()\n",
    "\n",
    "    steps = 0\n",
    "    while not goal_check(current_state):\n",
    "        steps += 1\n",
    "        for action in current_state.not_taken:\n",
    "            new_state = State(\n",
    "                current_state.taken ^ {action},\n",
    "                current_state.not_taken ^ {action},\n",
    "            )\n",
    "            frontier.put((distance(new_state), new_state))\n",
    "        _, current_state = frontier.get()\n",
    "    print(f\"Solved in {steps} steps and with {len(current_state.taken)} tiles\")\n",
    "    return current_state"
   ]
  },
  {
   "cell_type": "code",
   "execution_count": 14,
   "metadata": {},
   "outputs": [
    {
     "name": "stdout",
     "output_type": "stream",
     "text": [
      "Solved in 2 steps and with 2 tiles\n",
      "[array([ True, False,  True,  True,  True]), array([ True,  True, False,  True, False])]\n"
     ]
    }
   ],
   "source": [
    "frontier = PriorityQueue()\n",
    "frontier.put(State(set(), set(range(NUM_SETS))))\n",
    "\n",
    "greedy_solution_search = greedy_best_searh(frontier)\n",
    "print([SETS[i] for i in greedy_solution_search.taken])"
   ]
  },
  {
   "cell_type": "markdown",
   "metadata": {},
   "source": [
    "A star"
   ]
  },
  {
   "cell_type": "code",
   "execution_count": 15,
   "metadata": {},
   "outputs": [
    {
     "name": "stdout",
     "output_type": "stream",
     "text": [
      "Solved using A* in 2 steps with 2 sets\n"
     ]
    }
   ],
   "source": [
    "def is_special(s):\n",
    "    return sum(s) / PROBLEM_SIZE >= 0.6\n",
    "\n",
    "def g_cost(state):\n",
    "    return len(state.taken)\n",
    "\n",
    "# questa funzione non è optimistic ==> non è ammissibile ==> non è garantita l'ottimalità di A*\n",
    "\n",
    "# def distance(state):\n",
    "#     uncovered = PROBLEM_SIZE - sum(\n",
    "#         reduce(\n",
    "#             np.logical_or, \n",
    "#             [SETS[i] for i in state.taken],\n",
    "#             np.array([False for _ in range(PROBLEM_SIZE)]),\n",
    "#         )\n",
    "#     )\n",
    "#     return uncovered\n",
    "\n",
    "def h(state):\n",
    "    uncovered = PROBLEM_SIZE - sum(\n",
    "        reduce(\n",
    "            np.logical_or, \n",
    "            [SETS[i] for i in state.taken],\n",
    "            np.array([False for _ in range(PROBLEM_SIZE)]),\n",
    "        )\n",
    "    )\n",
    "    largest_set_size = max(sum(s) for s in SETS)\n",
    "    return ceil(uncovered/largest_set_size)\n",
    "\n",
    "# A* approach\n",
    "def astar_search():\n",
    "    frontier = PriorityQueue()\n",
    "    start_state = State(set(), set(range(NUM_SETS)))\n",
    "    frontier.put((0 + distance(start_state), start_state))\n",
    "    \n",
    "    counter = 0\n",
    "    _, current_state = frontier.get()\n",
    "    while not goal_check(current_state):\n",
    "        sorted_actions = sorted(list(current_state.not_taken), key=lambda x: -sum(SETS[x]))\n",
    "        for action in sorted_actions:\n",
    "            new_taken = set(current_state.taken ^ {action})\n",
    "            new_not_taken = set(current_state.not_taken ^ {action})\n",
    "            new_state = State(new_taken, new_not_taken)\n",
    "            frontier.put((g_cost(new_state) + distance(new_state), new_state))\n",
    "        counter += 1\n",
    "        _, current_state = frontier.get()\n",
    "    return counter, current_state\n",
    "counter, current_state = astar_search()\n",
    "print(f\"Solved using A* in {counter:,} steps with {len(current_state.taken)} sets\")"
   ]
  }
 ],
 "metadata": {
  "kernelspec": {
   "display_name": "Python 3",
   "language": "python",
   "name": "python3"
  },
  "language_info": {
   "codemirror_mode": {
    "name": "ipython",
    "version": 3
   },
   "file_extension": ".py",
   "mimetype": "text/x-python",
   "name": "python",
   "nbconvert_exporter": "python",
   "pygments_lexer": "ipython3",
   "version": "3.12.0"
  }
 },
 "nbformat": 4,
 "nbformat_minor": 2
}
