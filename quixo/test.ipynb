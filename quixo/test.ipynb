{
 "cells": [
  {
   "cell_type": "code",
   "execution_count": 2,
   "metadata": {},
   "outputs": [
    {
     "name": "stderr",
     "output_type": "stream",
     "text": [
      "100%|██████████| 10/10 [00:22<00:00,  2.21s/it]"
     ]
    },
    {
     "name": "stdout",
     "output_type": "stream",
     "text": [
      "Win rate (player 2):  100.0 %\n",
      "Loss rate(player1):  0.0 %\n",
      "Tie rate:  0.0 %\n"
     ]
    },
    {
     "name": "stderr",
     "output_type": "stream",
     "text": [
      "\n"
     ]
    }
   ],
   "source": [
    "import random\n",
    "from game import Game, Move, Player\n",
    "from minmax_new import MinMaxPlayer\n",
    "from main import RandomPlayer, HumanPlayer\n",
    "from tqdm import tqdm\n",
    "\n",
    "N_GAME = 10\n",
    "GOD = [(1, 0)]\n",
    "GOD2 = [(2, 0)]\n",
    "win_count = 0\n",
    "loss_count = 0\n",
    "tie_count = 0\n",
    "\n",
    "for i in tqdm(range(N_GAME)):\n",
    "    g = Game()\n",
    "    player1 = MinMaxPlayer(GOD) # 0\n",
    "    player2 = MinMaxPlayer(GOD2) # 1\n",
    "    winner = g.play(player1, player2)\n",
    "    if winner == 1: # player2 wins\n",
    "        win_count += 1\n",
    "    if winner == 0: # player1 wins\n",
    "        loss_count += 1\n",
    "    if winner == -1:\n",
    "        tie_count += 1\n",
    "print(\"Win rate (player 2): \", win_count/N_GAME*100, \"%\")\n",
    "print(\"Loss rate(player1): \", loss_count/N_GAME*100, \"%\")\n",
    "print(\"Tie rate: \", tie_count/N_GAME*100, \"%\")"
   ]
  },
  {
   "cell_type": "code",
   "execution_count": null,
   "metadata": {},
   "outputs": [],
   "source": []
  }
 ],
 "metadata": {
  "kernelspec": {
   "display_name": "Python 3",
   "language": "python",
   "name": "python3"
  },
  "language_info": {
   "codemirror_mode": {
    "name": "ipython",
    "version": 3
   },
   "file_extension": ".py",
   "mimetype": "text/x-python",
   "name": "python",
   "nbconvert_exporter": "python",
   "pygments_lexer": "ipython3",
   "version": "3.9.6"
  }
 },
 "nbformat": 4,
 "nbformat_minor": 2
}
